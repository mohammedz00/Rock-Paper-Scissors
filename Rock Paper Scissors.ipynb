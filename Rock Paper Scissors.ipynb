{
 "cells": [
  {
   "cell_type": "code",
   "execution_count": 7,
   "metadata": {},
   "outputs": [],
   "source": [
    "# Rock Paper Scissors\n",
    "\n",
    "#          Rock\n",
    "#         /    \\ \n",
    "#     Paper --- Scissors"
   ]
  },
  {
   "cell_type": "code",
   "execution_count": 1,
   "metadata": {},
   "outputs": [],
   "source": [
    "import random"
   ]
  },
  {
   "cell_type": "code",
   "execution_count": 6,
   "metadata": {},
   "outputs": [
    {
     "name": "stdout",
     "output_type": "stream",
     "text": [
      "True\n"
     ]
    }
   ],
   "source": [
    "player_choice = 'rock'\n",
    "computer_choice = 'scissors'\n",
    "\n",
    "if player_choice == 'rock' and (computer_choice == 'paper' or computer_choice == 'scissors'):\n",
    "    print(True)"
   ]
  },
  {
   "cell_type": "code",
   "execution_count": 18,
   "metadata": {},
   "outputs": [
    {
     "data": {
      "text/plain": [
       "'scissors'"
      ]
     },
     "execution_count": 18,
     "metadata": {},
     "output_type": "execute_result"
    }
   ],
   "source": [
    "# After importing random, we can create a really simple way of allowing the computer to make a 'random' choice,using a list\n",
    "\n",
    "comp_options = ['rock','paper','scissors']\n",
    "comp_options[random.randint(0,2)]\n"
   ]
  },
  {
   "cell_type": "code",
   "execution_count": 29,
   "metadata": {},
   "outputs": [
    {
     "name": "stdout",
     "output_type": "stream",
     "text": [
      "computer chose scissors\n"
     ]
    }
   ],
   "source": [
    "player_choice = 'rock'\n",
    "computer_choice = comp_options[random.randint(0,2)]\n",
    "\n",
    "if player_choice == 'rock' and (computer_choice == 'paper' or computer_choice == 'scissors'):\n",
    "    print(f'computer chose {computer_choice}')\n",
    "else: \n",
    "    print(f'computer chose {computer_choice}')"
   ]
  },
  {
   "cell_type": "code",
   "execution_count": 48,
   "metadata": {},
   "outputs": [
    {
     "name": "stdout",
     "output_type": "stream",
     "text": [
      "Computer wins a point\n",
      "computer points: 1\n"
     ]
    }
   ],
   "source": [
    "# Points\n",
    "\n",
    "player_points = 0\n",
    "computer_points = 0\n",
    "\n",
    "player_choice = 'rock'\n",
    "computer_choice = 'paper'\n",
    "\n",
    "# Logic for Player choosing rock\n",
    "\n",
    "\n",
    "if player_choice == 'rock' and computer_choice == 'scissors':\n",
    "    print('Player wins a point')\n",
    "    player_points += 1\n",
    "    print(f'player points: {player_points}')\n",
    "elif player_choice == 'rock' and computer_choice == 'paper':\n",
    "    print('Computer wins a point')\n",
    "    computer_points += 1\n",
    "    print(f'computer points: {computer_points}')\n",
    "elif player_choice == 'rock' and computer_choice == 'rock':\n",
    "    print('Draw, no points for anyone')\n",
    "else:\n",
    "    None\n",
    "    \n",
    "# Logic for player choosing paper\n",
    "\n",
    "if player_choice == 'paper' and computer_choice == 'rock':\n",
    "    print('Player wins a point')\n",
    "    player_points += 1\n",
    "    print(f'player points: {player_points}')\n",
    "elif player_choice == 'paper' and computer_choice == 'scissors':\n",
    "    print('Computer wins a point')\n",
    "    computer_points += 1\n",
    "    print(f'computer points: {computer_points}')\n",
    "elif player_choice == 'paper' and computer_choice == 'paper':\n",
    "     print('Draw, no points for anyone')\n",
    "else:\n",
    "    None\n",
    "    \n",
    "# Logic for player choosing scissors\n",
    "    \n",
    "if player_choice == 'scissors' and computer_choice == 'paper':\n",
    "    print('Player wins a point')\n",
    "    player_points += 1\n",
    "    print(f'player points: {player_points}')\n",
    "elif player_choice == 'scissors' and computer_choice == 'rock':\n",
    "    print('Computer wins a point')\n",
    "    computer_points += 1\n",
    "    print(f'computer points: {computer_points}')\n",
    "elif player_choice == 'scissors' and computer_choice == 'scissors':\n",
    "    print('Draw, no points for anyone')\n",
    "else:\n",
    "    None\n",
    "\n"
   ]
  },
  {
   "cell_type": "code",
   "execution_count": 6,
   "metadata": {},
   "outputs": [
    {
     "name": "stdout",
     "output_type": "stream",
     "text": [
      "Would you like to play Rock Paper Scissors? yes\n",
      "What do you pick, rock paper or scissors? rock\n",
      "Draw, no points for anyone\n",
      "What do you pick, rock paper or scissors? rock\n",
      "Computer wins a point\n",
      "computer points: 1\n",
      "What do you pick, rock paper or scissors? rock\n",
      "Computer wins a point\n",
      "computer points: 2\n",
      "What do you pick, rock paper or scissors? rock\n",
      "Player wins a point\n",
      "player points: 1\n",
      "Computer has won!\n"
     ]
    }
   ],
   "source": [
    "# Best of three Rock Paper Scissor game\n",
    "\n",
    "\n",
    "# Pre-assigned Variables #######################################\n",
    "no_games = 0\n",
    "game = input('Would you like to play Rock Paper Scissors? ')\n",
    "comp_options = ['rock','paper','scissors']\n",
    "player_points = 0\n",
    "computer_points = 0\n",
    "\n",
    "# Game Start ####################################################\n",
    "\n",
    "if game == 'yes':\n",
    "    while no_games < 3: #This is because the game will be best out of three games\n",
    "        player_choice = input('What do you pick, rock paper or scissors? ')\n",
    "        computer_choice = comp_options[random.randint(0,2)]\n",
    "\n",
    "\n",
    "\n",
    "        # Logic for Player choosing rock ##########################\n",
    "\n",
    "\n",
    "        if player_choice == 'rock' and computer_choice == 'scissors':\n",
    "            print('Player wins a point')\n",
    "            player_points += 1\n",
    "            print(f'player points: {player_points}')\n",
    "        elif player_choice == 'rock' and computer_choice == 'paper':\n",
    "            print('Computer wins a point')\n",
    "            computer_points += 1\n",
    "            print(f'computer points: {computer_points}')\n",
    "        elif player_choice == 'rock' and computer_choice == 'rock':\n",
    "            no_games -= 1\n",
    "            print('Draw, no points for anyone')\n",
    "        else:\n",
    "            None\n",
    "    \n",
    "        # Logic for player choosing paper #########################\n",
    "\n",
    "        if player_choice == 'paper' and computer_choice == 'rock':\n",
    "            print('Player wins a point')\n",
    "            player_points += 1\n",
    "            print(f'player points: {player_points}')\n",
    "        elif player_choice == 'paper' and computer_choice == 'scissors':\n",
    "            print('Computer wins a point')\n",
    "            computer_points += 1\n",
    "            print(f'computer points: {computer_points}')\n",
    "        elif player_choice == 'paper' and computer_choice == 'paper':\n",
    "            no_games -= 1\n",
    "            print('Draw, no points for anyone')\n",
    "        else:\n",
    "            None\n",
    "    \n",
    "        # Logic for player choosing scissors #######################\n",
    "    \n",
    "        if player_choice == 'scissors' and computer_choice == 'paper':\n",
    "            print('Player wins a point')\n",
    "            player_points += 1\n",
    "            print(f'player points: {player_points}')\n",
    "        elif player_choice == 'scissors' and computer_choice == 'rock':\n",
    "            print('Computer wins a point')\n",
    "            computer_points += 1\n",
    "            print(f'computer points: {computer_points}')\n",
    "        elif player_choice == 'scissors' and computer_choice == 'scissors':\n",
    "            print('Draw, no points for anyone')\n",
    "            no_games -= 1\n",
    "        else:\n",
    "            None\n",
    "        \n",
    "        no_games += 1\n",
    "    \n",
    "    #  Point System ###################################################\n",
    "            \n",
    "    if player_points > computer_points:\n",
    "        print('Player has won!')\n",
    "    elif player_points < computer_points:\n",
    "        print('Computer has won!')\n",
    "    else:\n",
    "        print('It is a draw')\n",
    "        no_games = 0\n",
    "\n",
    "# If player chooses not to play or enters invalid response #############\n",
    "        \n",
    "elif game == 'no':\n",
    "    print('Have a nice day!')\n",
    "else:\n",
    "    print('Invalid Input')\n",
    "    "
   ]
  }
 ],
 "metadata": {
  "kernelspec": {
   "display_name": "Python 3",
   "language": "python",
   "name": "python3"
  },
  "language_info": {
   "codemirror_mode": {
    "name": "ipython",
    "version": 3
   },
   "file_extension": ".py",
   "mimetype": "text/x-python",
   "name": "python",
   "nbconvert_exporter": "python",
   "pygments_lexer": "ipython3",
   "version": "3.8.3"
  }
 },
 "nbformat": 4,
 "nbformat_minor": 4
}
